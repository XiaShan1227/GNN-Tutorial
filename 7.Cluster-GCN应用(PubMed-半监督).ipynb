{
 "cells": [
  {
   "cell_type": "markdown",
   "id": "86706e34",
   "metadata": {},
   "source": [
    "### 一、数据集"
   ]
  },
  {
   "cell_type": "code",
   "execution_count": 1,
   "id": "ce75ecfc",
   "metadata": {},
   "outputs": [
    {
     "name": "stdout",
     "output_type": "stream",
     "text": [
      "Dataset: PubMed():\n",
      "==================\n",
      "Number of graphs: 1\n",
      "Number of features: 500\n",
      "Number of classes: 3\n",
      "\n",
      "Data(x=[19717, 500], edge_index=[2, 88648], y=[19717], train_mask=[19717], val_mask=[19717], test_mask=[19717])\n",
      "===============================================================================================================\n",
      "Number of nodes: 19717\n",
      "Number of edges: 88648\n",
      "Average node degree: 4.50\n",
      "Number of training nodes: 60\n",
      "Training node label rate: 0.003\n",
      "Has isolated nodes: False\n",
      "Has self-loops: False\n",
      "Is undirected: True\n"
     ]
    }
   ],
   "source": [
    "import torch\n",
    "from torch_geometric.datasets import Planetoid\n",
    "from torch_geometric.transforms import NormalizeFeatures\n",
    "\n",
    "dataset = Planetoid(root='data/Planetoid', name='PubMed', transform=NormalizeFeatures())\n",
    "\n",
    "print(f'Dataset: {dataset}:')\n",
    "print('==================')\n",
    "print(f'Number of graphs: {len(dataset)}')\n",
    "print(f'Number of features: {dataset.num_features}')\n",
    "print(f'Number of classes: {dataset.num_classes}')\n",
    "\n",
    "data = dataset[0]  # 获取第一个图对象\n",
    "\n",
    "print()\n",
    "print(data)\n",
    "print('===============================================================================================================')\n",
    "\n",
    "# 获得这张图的一些统计信息\n",
    "print(f'Number of nodes: {data.num_nodes}')\n",
    "print(f'Number of edges: {data.num_edges}')\n",
    "print(f'Average node degree: {data.num_edges / data.num_nodes:.2f}')\n",
    "print(f'Number of training nodes: {data.train_mask.sum()}')\n",
    "print(f'Training node label rate: {int(data.train_mask.sum()) / data.num_nodes:.3f}')\n",
    "print(f'Has isolated nodes: {data.has_isolated_nodes()}')\n",
    "print(f'Has self-loops: {data.has_self_loops()}')\n",
    "print(f'Is undirected: {data.is_undirected()}')"
   ]
  },
  {
   "cell_type": "code",
   "execution_count": 2,
   "id": "ac33bc59",
   "metadata": {},
   "outputs": [
    {
     "name": "stdout",
     "output_type": "stream",
     "text": [
      "60\n",
      "500\n",
      "1000\n"
     ]
    }
   ],
   "source": [
    "print(int(data.train_mask.sum())) # 训练集节点数\n",
    "print(int(data.val_mask.sum())) # 验证集节点数\n",
    "print(int(data.test_mask.sum())) # 测试集节点数"
   ]
  },
  {
   "cell_type": "code",
   "execution_count": 3,
   "id": "f74f3e05",
   "metadata": {},
   "outputs": [
    {
     "name": "stdout",
     "output_type": "stream",
     "text": [
      "类别 0: 4103 个样本\n",
      "类别 1: 7739 个样本\n",
      "类别 2: 7875 个样本\n"
     ]
    },
    {
     "data": {
      "image/png": "[encoded data removed]",
      "text/plain": [
       "<Figure size 640x480 with 1 Axes>"
      ]
     },
     "metadata": {},
     "output_type": "display_data"
    }
   ],
   "source": [
    "import matplotlib.pyplot as plt\n",
    "\n",
    "# 统计每个类别的数量\n",
    "unique_labels, counts = torch.unique(data.y, return_counts=True)\n",
    "\n",
    "# 打印每个类别的数量\n",
    "for label, count in zip(unique_labels, counts):\n",
    "    print(f\"类别 {label.item()}: {count.item()} 个样本\")\n",
    "\n",
    "# 使用直方图可视化\n",
    "plt.bar(unique_labels.numpy(), counts.numpy())\n",
    "plt.xlabel('labels')\n",
    "plt.ylabel('counts')\n",
    "\n",
    "# 在每个条形上方添加数字标签\n",
    "for label, count in zip(unique_labels, counts):\n",
    "    plt.text(label.item(), count.item(), str(count.item()), ha='center', va='bottom')\n",
    "\n",
    "plt.show()"
   ]
  },
  {
   "cell_type": "markdown",
   "id": "03ccd99c",
   "metadata": {},
   "source": [
    "### 二、Full-batch加载数据训练"
   ]
  },
  {
   "cell_type": "code",
   "execution_count": 4,
   "id": "ab05b903",
   "metadata": {},
   "outputs": [],
   "source": [
    "def train(): \n",
    "    model.train() # 训练模式\n",
    "    optimizer.zero_grad()  # 梯度清0\n",
    "    train_outputs = model(data.x, data.edge_index)  # 前向传播\n",
    "    loss = criterion(train_outputs[data.train_mask], data.y[data.train_mask])  # 计算损失\n",
    "    loss.backward()  # 反向传播\n",
    "    optimizer.step()  # 参数更新\n",
    "    \n",
    "    return loss\n",
    "    \n",
    "def test():    \n",
    "    model.eval() # 测试模式\n",
    "    outputs = model(data.x, data.edge_index)  # 预测输出\n",
    "    preds = outputs.argmax(dim=1) # 测试预测\n",
    "    \n",
    "    accs = []\n",
    "    for mask in [data.train_mask, data.val_mask, data.test_mask]:\n",
    "        correct = preds[mask] == data.y[mask]  # 预测正确\n",
    "        accs.append(int(correct.sum()) / int(mask.sum()))  # 准确率\n",
    "    \n",
    "    return accs"
   ]
  },
  {
   "cell_type": "code",
   "execution_count": 5,
   "id": "5fd464c8",
   "metadata": {},
   "outputs": [
    {
     "name": "stdout",
     "output_type": "stream",
     "text": [
      "GCN(\n",
      "  (conv1): GCNConv(500, 32)\n",
      "  (conv2): GCNConv(32, 3)\n",
      "  (dp): Dropout(p=0.5, inplace=False)\n",
      ")\n",
      "Total parameters: 16131\n"
     ]
    }
   ],
   "source": [
    "import torch.nn as nn\n",
    "from torch_geometric.nn import GCNConv\n",
    "\n",
    "class GCN(nn.Module):\n",
    "    def __init__(self, output_channels=3):\n",
    "        super(GCN, self).__init__()\n",
    "\n",
    "        self.conv1 = GCNConv(500, 32)  \n",
    "        self.conv2 = GCNConv(32, output_channels)\n",
    "        \n",
    "        self.dp = nn.Dropout(p=0.5)\n",
    "\n",
    "    def forward(self, x, edge_index):\n",
    "        \n",
    "        x = F.relu(self.conv1(x, edge_index)) # (num_nodes, num_features=500) ——> (num_nodes, num_features=32)\n",
    "        x = self.conv2(x, edge_index) # (num_nodes, num_features=32) ——> (num_nodes, dataset.num_classes=3)\n",
    "        \n",
    "        return x\n",
    "\n",
    "model = GCN()\n",
    "print(model)\n",
    "\n",
    "# 统计模型总参数量\n",
    "total_params = sum(p.numel() for p in model.parameters() if p.requires_grad)\n",
    "print(f\"Total parameters: {total_params}\")"
   ]
  },
  {
   "cell_type": "code",
   "execution_count": 6,
   "id": "11432b73",
   "metadata": {},
   "outputs": [
    {
     "name": "stdout",
     "output_type": "stream",
     "text": [
      "Epoch #000, Loss: 1.0993, Train_Accuracy: 0.3500, Val_Accuracy: 0.1980, Test_Accuracy: 0.1860\n",
      "Epoch #010, Loss: 0.9227, Train_Accuracy: 0.9333, Val_Accuracy: 0.7180, Test_Accuracy: 0.6790\n",
      "Epoch #020, Loss: 0.6597, Train_Accuracy: 0.9500, Val_Accuracy: 0.7500, Test_Accuracy: 0.7280\n",
      "Epoch #030, Loss: 0.4127, Train_Accuracy: 0.9500, Val_Accuracy: 0.7660, Test_Accuracy: 0.7480\n",
      "Epoch #040, Loss: 0.2422, Train_Accuracy: 0.9667, Val_Accuracy: 0.7840, Test_Accuracy: 0.7650\n",
      "Epoch #050, Loss: 0.1456, Train_Accuracy: 1.0000, Val_Accuracy: 0.7920, Test_Accuracy: 0.7650\n",
      "Epoch #060, Loss: 0.0962, Train_Accuracy: 1.0000, Val_Accuracy: 0.7880, Test_Accuracy: 0.7700\n",
      "Epoch #070, Loss: 0.0718, Train_Accuracy: 1.0000, Val_Accuracy: 0.7800, Test_Accuracy: 0.7730\n",
      "Epoch #080, Loss: 0.0597, Train_Accuracy: 1.0000, Val_Accuracy: 0.7740, Test_Accuracy: 0.7770\n",
      "Epoch #090, Loss: 0.0531, Train_Accuracy: 1.0000, Val_Accuracy: 0.7760, Test_Accuracy: 0.7820\n",
      "Epoch #100, Loss: 0.0489, Train_Accuracy: 1.0000, Val_Accuracy: 0.7780, Test_Accuracy: 0.7850\n",
      "Elapsed time: 2.46929931640625 seconds\n"
     ]
    }
   ],
   "source": [
    "import time\n",
    "import torch.optim as optim\n",
    "import torch.nn.functional as F\n",
    "\n",
    "device = torch.device(\"cuda:0\" if torch.cuda.is_available() else \"cpu\") # 使用GPU or CPU\n",
    "\n",
    "model = model.to(device) # 加载模型\n",
    "optimizer = optim.Adam(model.parameters(), lr=0.01, weight_decay=1e-4) # 优化器\n",
    "criterion = nn.CrossEntropyLoss(reduction='mean')  # 损失函数\n",
    "\n",
    "data = data.to(device)\n",
    "\n",
    "start_time = time.time()\n",
    "\n",
    "for epoch in range(101):\n",
    "    loss = train()\n",
    "    train_acc, val_acc, test_acc = test()\n",
    "\n",
    "    if epoch % 10 == 0:\n",
    "        print('Epoch #{:03d}, Loss: {:.4f}, Train_Accuracy: {:.4f}, Val_Accuracy: {:.4f}, Test_Accuracy: {:.4f}'\n",
    "              .format(epoch, loss, train_acc, val_acc, test_acc))\n",
    "        \n",
    "end_time = time.time()\n",
    "elapsed_time = end_time - start_time\n",
    "print(f\"Elapsed time: {elapsed_time} seconds\")"
   ]
  },
  {
   "cell_type": "code",
   "execution_count": 7,
   "id": "8622eacb",
   "metadata": {},
   "outputs": [
    {
     "name": "stdout",
     "output_type": "stream",
     "text": [
      "ClusterGCN(\n",
      "  (conv1): ClusterGCNConv(500, 32, diag_lambda=1)\n",
      "  (conv2): ClusterGCNConv(32, 3, diag_lambda=1)\n",
      "  (dp): Dropout(p=0.5, inplace=False)\n",
      ")\n",
      "Total parameters: 32227\n"
     ]
    }
   ],
   "source": [
    "import torch.nn as nn\n",
    "from torch_geometric.nn import ClusterGCNConv\n",
    "\n",
    "class ClusterGCN(nn.Module):\n",
    "    def __init__(self, output_channels=3):\n",
    "        super(ClusterGCN, self).__init__()\n",
    "\n",
    "        self.conv1 = ClusterGCNConv(500, 32, diag_lambda=1)  \n",
    "        self.conv2 = ClusterGCNConv(32, output_channels, diag_lambda=1)\n",
    "        \n",
    "        self.dp = nn.Dropout(p=0.5)\n",
    "\n",
    "    def forward(self, x, edge_index):\n",
    "        \n",
    "        x = F.relu(self.conv1(x, edge_index)) # (num_nodes, num_features=500) ——> (num_nodes, num_features=32)\n",
    "        x = self.conv2(x, edge_index) # (num_nodes, num_features=32) ——> (num_nodes, dataset.num_classes=3)\n",
    "        \n",
    "        return x\n",
    "\n",
    "model = ClusterGCN()\n",
    "print(model)\n",
    "\n",
    "# 统计模型总参数量\n",
    "total_params = sum(p.numel() for p in model.parameters() if p.requires_grad)\n",
    "print(f\"Total parameters: {total_params}\")"
   ]
  },
  {
   "cell_type": "code",
   "execution_count": 8,
   "id": "6ad662ba",
   "metadata": {},
   "outputs": [],
   "source": [
    "# 重置先前训练的模型权重\n",
    "for layer in model.children():\n",
    "    if hasattr(layer, 'reset_parameters'):\n",
    "        layer.reset_parameters()"
   ]
  },
  {
   "cell_type": "code",
   "execution_count": 9,
   "id": "d6a61e2d",
   "metadata": {},
   "outputs": [
    {
     "name": "stdout",
     "output_type": "stream",
     "text": [
      "Epoch #000, Loss: 1.1091, Train_Accuracy: 0.4833, Val_Accuracy: 0.4580, Test_Accuracy: 0.4500\n",
      "Epoch #010, Loss: 0.4512, Train_Accuracy: 0.9833, Val_Accuracy: 0.7580, Test_Accuracy: 0.7480\n",
      "Epoch #020, Loss: 0.0923, Train_Accuracy: 0.9833, Val_Accuracy: 0.7520, Test_Accuracy: 0.7580\n",
      "Epoch #030, Loss: 0.0215, Train_Accuracy: 1.0000, Val_Accuracy: 0.7560, Test_Accuracy: 0.7530\n",
      "Epoch #040, Loss: 0.0087, Train_Accuracy: 1.0000, Val_Accuracy: 0.7660, Test_Accuracy: 0.7540\n",
      "Epoch #050, Loss: 0.0061, Train_Accuracy: 1.0000, Val_Accuracy: 0.7620, Test_Accuracy: 0.7540\n",
      "Epoch #060, Loss: 0.0060, Train_Accuracy: 1.0000, Val_Accuracy: 0.7580, Test_Accuracy: 0.7560\n",
      "Epoch #070, Loss: 0.0065, Train_Accuracy: 1.0000, Val_Accuracy: 0.7600, Test_Accuracy: 0.7620\n",
      "Epoch #080, Loss: 0.0068, Train_Accuracy: 1.0000, Val_Accuracy: 0.7660, Test_Accuracy: 0.7620\n",
      "Epoch #090, Loss: 0.0067, Train_Accuracy: 1.0000, Val_Accuracy: 0.7720, Test_Accuracy: 0.7650\n",
      "Epoch #100, Loss: 0.0064, Train_Accuracy: 1.0000, Val_Accuracy: 0.7760, Test_Accuracy: 0.7680\n",
      "Elapsed time: 2.206155776977539 seconds\n"
     ]
    }
   ],
   "source": [
    "import time\n",
    "import torch.optim as optim\n",
    "import torch.nn.functional as F\n",
    "\n",
    "device = torch.device(\"cuda:0\" if torch.cuda.is_available() else \"cpu\") # 使用GPU or CPU\n",
    "\n",
    "model = model.to(device) # 加载模型\n",
    "optimizer = optim.Adam(model.parameters(), lr=0.01, weight_decay=1e-4) # 优化器\n",
    "criterion = nn.CrossEntropyLoss(reduction='mean')  # 损失函数\n",
    "\n",
    "data = data.to(device)\n",
    "\n",
    "start_time = time.time()\n",
    "\n",
    "for epoch in range(101):\n",
    "    loss = train()\n",
    "    train_acc, val_acc, test_acc = test()\n",
    "\n",
    "    if epoch % 10 == 0:\n",
    "        print('Epoch #{:03d}, Loss: {:.4f}, Train_Accuracy: {:.4f}, Val_Accuracy: {:.4f}, Test_Accuracy: {:.4f}'\n",
    "              .format(epoch, loss, train_acc, val_acc, test_acc))\n",
    "        \n",
    "end_time = time.time()\n",
    "elapsed_time = end_time - start_time\n",
    "print(f\"Elapsed time: {elapsed_time} seconds\")"
   ]
  },
  {
   "cell_type": "markdown",
   "id": "e9a5f8bc",
   "metadata": {},
   "source": [
    "### 二、ClusterLoader加载数据训练"
   ]
  },
  {
   "cell_type": "code",
   "execution_count": 10,
   "id": "31aa052f",
   "metadata": {},
   "outputs": [
    {
     "name": "stderr",
     "output_type": "stream",
     "text": [
      "Computing METIS partitioning...\n",
      "Done!\n"
     ]
    },
    {
     "name": "stdout",
     "output_type": "stream",
     "text": [
      "Step 1:\n",
      "=======\n",
      "Number of nodes in the current batch: 4935\n",
      "Data(x=[4935, 500], y=[4935], train_mask=[4935], val_mask=[4935], test_mask=[4935], edge_index=[2, 17064])\n",
      "\n",
      "Step 2:\n",
      "=======\n",
      "Number of nodes in the current batch: 4957\n",
      "Data(x=[4957, 500], y=[4957], train_mask=[4957], val_mask=[4957], test_mask=[4957], edge_index=[2, 19358])\n",
      "\n",
      "Step 3:\n",
      "=======\n",
      "Number of nodes in the current batch: 4924\n",
      "Data(x=[4924, 500], y=[4924], train_mask=[4924], val_mask=[4924], test_mask=[4924], edge_index=[2, 15304])\n",
      "\n",
      "Step 4:\n",
      "=======\n",
      "Number of nodes in the current batch: 4901\n",
      "Data(x=[4901, 500], y=[4901], train_mask=[4901], val_mask=[4901], test_mask=[4901], edge_index=[2, 15634])\n",
      "\n",
      "Iterated over 19717 of 19717 nodes!\n"
     ]
    }
   ],
   "source": [
    "from torch_geometric.loader import ClusterData, ClusterLoader\n",
    "\n",
    "torch.manual_seed(16)\n",
    "\n",
    "data = data.cpu()\n",
    "\n",
    "cluster_data = ClusterData(data, num_parts=128)  # 1.创建子图\n",
    "train_loader = ClusterLoader(cluster_data, batch_size=32, shuffle=True)  # 2.随机分区\n",
    "\n",
    "total_num_nodes = 0\n",
    "for step, sub_data in enumerate(train_loader):\n",
    "    print(f'Step {step + 1}:')\n",
    "    print('=======')\n",
    "    print(f'Number of nodes in the current batch: {sub_data.num_nodes}')\n",
    "    print(sub_data)\n",
    "    print()\n",
    "    total_num_nodes += sub_data.num_nodes\n",
    "\n",
    "print(f'Iterated over {total_num_nodes} of {data.num_nodes} nodes!')"
   ]
  },
  {
   "cell_type": "code",
   "execution_count": 11,
   "id": "c3786bf1",
   "metadata": {},
   "outputs": [],
   "source": [
    "def train(): \n",
    "    model.train() # 训练模式\n",
    "    \n",
    "    loss_epoch = []\n",
    "    \n",
    "    # 每个Mini-batch更新一次参数\n",
    "    for sub_data in train_loader:\n",
    "        sub_data.to(device)\n",
    "        optimizer.zero_grad()  # 梯度清0\n",
    "        train_outputs = model(sub_data.x, sub_data.edge_index)  # 前向传播\n",
    "        loss = criterion(train_outputs[sub_data.train_mask], sub_data.y[sub_data.train_mask])  # 计算损失\n",
    "        loss.backward()  # 反向传播\n",
    "        optimizer.step()  # 参数更新\n",
    "        \n",
    "        loss_epoch.append(round(float(loss.cpu()), 4))\n",
    "    \n",
    "    return loss_epoch\n",
    "    \n",
    "def test():    \n",
    "    model.eval() # 测试模式\n",
    "    outputs = model(data.x, data.edge_index)  # 预测输出\n",
    "    preds = outputs.argmax(dim=1) # 测试预测\n",
    "    \n",
    "    accs = []\n",
    "    for mask in [data.train_mask, data.val_mask, data.test_mask]:\n",
    "        correct = preds[mask] == data.y[mask]  # 预测正确\n",
    "        accs.append(int(correct.sum()) / int(mask.sum()))  # 准确率\n",
    "    \n",
    "    return accs"
   ]
  },
  {
   "cell_type": "code",
   "execution_count": 12,
   "id": "03b6e5cc",
   "metadata": {},
   "outputs": [
    {
     "name": "stdout",
     "output_type": "stream",
     "text": [
      "GCN(\n",
      "  (conv1): GCNConv(500, 32)\n",
      "  (conv2): GCNConv(32, 3)\n",
      "  (dp): Dropout(p=0.5, inplace=False)\n",
      ")\n",
      "Total parameters: 16131\n"
     ]
    }
   ],
   "source": [
    "model = GCN()\n",
    "print(model)\n",
    "\n",
    "# 统计模型总参数量\n",
    "total_params = sum(p.numel() for p in model.parameters() if p.requires_grad)\n",
    "print(f\"Total parameters: {total_params}\")\n",
    "\n",
    "# 重置先前训练的模型权重\n",
    "for layer in model.children():\n",
    "    if hasattr(layer, 'reset_parameters'):\n",
    "        layer.reset_parameters()"
   ]
  },
  {
   "cell_type": "code",
   "execution_count": 13,
   "id": "bc231a6c",
   "metadata": {},
   "outputs": [
    {
     "name": "stdout",
     "output_type": "stream",
     "text": [
      "Epoch #000, Loss: [1.1001, 1.0836, 1.1015, 1.1077], Train_Accuracy: 0.3333, Val_Accuracy: 0.3880, Test_Accuracy: 0.4130\n",
      "Epoch #010, Loss: [0.5660, 0.4960, 0.5846, 0.4397], Train_Accuracy: 0.9500, Val_Accuracy: 0.7660, Test_Accuracy: 0.7620\n",
      "Epoch #020, Loss: [0.1224, 0.1632, 0.1140, 0.2069], Train_Accuracy: 0.9833, Val_Accuracy: 0.7940, Test_Accuracy: 0.7800\n",
      "Epoch #030, Loss: [0.0835, 0.0817, 0.0606, 0.0455], Train_Accuracy: 1.0000, Val_Accuracy: 0.8020, Test_Accuracy: 0.7850\n",
      "Epoch #040, Loss: [0.0464, 0.0545, 0.0518, 0.0239], Train_Accuracy: 1.0000, Val_Accuracy: 0.8000, Test_Accuracy: 0.7820\n",
      "Epoch #050, Loss: [0.0386, 0.0398, 0.0353, 0.0395], Train_Accuracy: 1.0000, Val_Accuracy: 0.7940, Test_Accuracy: 0.7790\n",
      "Epoch #060, Loss: [0.0372, 0.0301, 0.0419, 0.0209], Train_Accuracy: 1.0000, Val_Accuracy: 0.8020, Test_Accuracy: 0.7830\n",
      "Epoch #070, Loss: [0.0311, 0.0258, 0.0300, 0.0204], Train_Accuracy: 1.0000, Val_Accuracy: 0.8000, Test_Accuracy: 0.7890\n",
      "Epoch #080, Loss: [0.0220, 0.0323, 0.0224, 0.0296], Train_Accuracy: 1.0000, Val_Accuracy: 0.8000, Test_Accuracy: 0.7890\n",
      "Epoch #090, Loss: [0.0276, 0.0203, 0.0301, 0.0174], Train_Accuracy: 1.0000, Val_Accuracy: 0.8040, Test_Accuracy: 0.7890\n",
      "Epoch #100, Loss: [0.0212, 0.0237, 0.0197, 0.0192], Train_Accuracy: 1.0000, Val_Accuracy: 0.8020, Test_Accuracy: 0.7900\n",
      "Elapsed time: 6.870549917221069 seconds\n"
     ]
    }
   ],
   "source": [
    "import time\n",
    "import torch.optim as optim\n",
    "import torch.nn.functional as F\n",
    "\n",
    "device = torch.device(\"cuda:0\" if torch.cuda.is_available() else \"cpu\") # 使用GPU or CPU\n",
    "\n",
    "model = model.to(device) # 加载模型\n",
    "optimizer = optim.Adam(model.parameters(), lr=0.01, weight_decay=1e-4) # 优化器\n",
    "criterion = nn.CrossEntropyLoss(reduction='mean')  # 损失函数\n",
    "\n",
    "data = data.to(device)\n",
    "\n",
    "start_time = time.time()\n",
    "\n",
    "for epoch in range(101):\n",
    "    loss = train()\n",
    "    # 将 loss 列表中的所有元素转换为字符串，并以逗号分隔拼接\n",
    "    loss_str = ', '.join(['{:.4f}'.format(i) for i in loss])\n",
    "    \n",
    "    train_acc, val_acc, test_acc = test()\n",
    "\n",
    "    if epoch % 10 == 0:\n",
    "        print('Epoch #{:03d}, Loss: [{}], Train_Accuracy: {:.4f}, Val_Accuracy: {:.4f}, Test_Accuracy: {:.4f}'\n",
    "              .format(epoch, loss_str, train_acc, val_acc, test_acc))\n",
    "        \n",
    "end_time = time.time()\n",
    "elapsed_time = end_time - start_time\n",
    "print(f\"Elapsed time: {elapsed_time} seconds\")"
   ]
  },
  {
   "cell_type": "code",
   "execution_count": 14,
   "id": "6696efcf",
   "metadata": {},
   "outputs": [
    {
     "name": "stdout",
     "output_type": "stream",
     "text": [
      "ClusterGCN(\n",
      "  (conv1): ClusterGCNConv(500, 32, diag_lambda=1)\n",
      "  (conv2): ClusterGCNConv(32, 3, diag_lambda=1)\n",
      "  (dp): Dropout(p=0.5, inplace=False)\n",
      ")\n",
      "Total parameters: 32227\n"
     ]
    }
   ],
   "source": [
    "model = ClusterGCN()\n",
    "print(model)\n",
    "\n",
    "# 统计模型总参数量\n",
    "total_params = sum(p.numel() for p in model.parameters() if p.requires_grad)\n",
    "print(f\"Total parameters: {total_params}\")\n",
    "\n",
    "# 重置先前训练的模型权重\n",
    "for layer in model.children():\n",
    "    if hasattr(layer, 'reset_parameters'):\n",
    "        layer.reset_parameters()"
   ]
  },
  {
   "cell_type": "code",
   "execution_count": 15,
   "id": "142a1239",
   "metadata": {},
   "outputs": [
    {
     "name": "stdout",
     "output_type": "stream",
     "text": [
      "Epoch #000, Loss: [1.0764, 1.1757, 1.0424, 1.0692], Train_Accuracy: 0.7333, Val_Accuracy: 0.6440, Test_Accuracy: 0.6600\n",
      "Epoch #010, Loss: [0.0153, 0.0583, 0.0415, 0.0211], Train_Accuracy: 1.0000, Val_Accuracy: 0.7460, Test_Accuracy: 0.7570\n",
      "Epoch #020, Loss: [0.0088, 0.0092, 0.0054, 0.0115], Train_Accuracy: 1.0000, Val_Accuracy: 0.7700, Test_Accuracy: 0.7610\n",
      "Epoch #030, Loss: [0.0040, 0.0074, 0.0051, 0.0095], Train_Accuracy: 1.0000, Val_Accuracy: 0.7760, Test_Accuracy: 0.7670\n",
      "Epoch #040, Loss: [0.0070, 0.0050, 0.0045, 0.0054], Train_Accuracy: 1.0000, Val_Accuracy: 0.7760, Test_Accuracy: 0.7680\n",
      "Epoch #050, Loss: [0.0034, 0.0060, 0.0050, 0.0044], Train_Accuracy: 1.0000, Val_Accuracy: 0.7880, Test_Accuracy: 0.7740\n",
      "Epoch #060, Loss: [0.0054, 0.0052, 0.0046, 0.0046], Train_Accuracy: 1.0000, Val_Accuracy: 0.7860, Test_Accuracy: 0.7790\n",
      "Epoch #070, Loss: [0.0037, 0.0043, 0.0047, 0.0038], Train_Accuracy: 1.0000, Val_Accuracy: 0.7880, Test_Accuracy: 0.7700\n",
      "Epoch #080, Loss: [0.0045, 0.0035, 0.0041, 0.0035], Train_Accuracy: 1.0000, Val_Accuracy: 0.7840, Test_Accuracy: 0.7680\n",
      "Epoch #090, Loss: [0.0035, 0.0033, 0.0025, 0.0061], Train_Accuracy: 1.0000, Val_Accuracy: 0.7780, Test_Accuracy: 0.7730\n",
      "Epoch #100, Loss: [0.0047, 0.0023, 0.0029, 0.0054], Train_Accuracy: 1.0000, Val_Accuracy: 0.7880, Test_Accuracy: 0.7690\n",
      "Elapsed time: 8.59732174873352 seconds\n"
     ]
    }
   ],
   "source": [
    "import time\n",
    "import torch.optim as optim\n",
    "import torch.nn.functional as F\n",
    "\n",
    "device = torch.device(\"cuda:0\" if torch.cuda.is_available() else \"cpu\") # 使用GPU or CPU\n",
    "\n",
    "model = model.to(device) # 加载模型\n",
    "optimizer = optim.Adam(model.parameters(), lr=0.01, weight_decay=1e-4) # 优化器\n",
    "criterion = nn.CrossEntropyLoss(reduction='mean')  # 损失函数\n",
    "\n",
    "data = data.to(device)\n",
    "\n",
    "start_time = time.time()\n",
    "\n",
    "for epoch in range(101):\n",
    "    loss = train()\n",
    "    # 将 loss 列表中的所有元素转换为字符串，并以逗号分隔拼接\n",
    "    loss_str = ', '.join(['{:.4f}'.format(i) for i in loss])\n",
    "    \n",
    "    train_acc, val_acc, test_acc = test()\n",
    "\n",
    "    if epoch % 10 == 0:\n",
    "        print('Epoch #{:03d}, Loss: [{}], Train_Accuracy: {:.4f}, Val_Accuracy: {:.4f}, Test_Accuracy: {:.4f}'\n",
    "              .format(epoch, loss_str, train_acc, val_acc, test_acc))\n",
    "        \n",
    "end_time = time.time()\n",
    "elapsed_time = end_time - start_time\n",
    "print(f\"Elapsed time: {elapsed_time} seconds\")"
   ]
  }
 ],
 "metadata": {
  "kernelspec": {
   "display_name": "deep_learning",
   "language": "python",
   "name": "deep_learning"
  },
  "language_info": {
   "codemirror_mode": {
    "name": "ipython",
    "version": 3
   },
   "file_extension": ".py",
   "mimetype": "text/x-python",
   "name": "python",
   "nbconvert_exporter": "python",
   "pygments_lexer": "ipython3",
   "version": "3.9.16"
  }
 },
 "nbformat": 4,
 "nbformat_minor": 5
}
